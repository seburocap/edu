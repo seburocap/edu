{
 "cells": [
  {
   "cell_type": "markdown",
   "id": "7c5a1108-6201-4116-95f5-12e8255138be",
   "metadata": {},
   "source": [
    "### 1. Файл с кодом - https://drive.google.com/file/d/15JufJWiHS26xiE1Uk9wRYfBHmDTlgPDC/view?usp=sharing"
   ]
  },
  {
   "cell_type": "markdown",
   "id": "1f4de20a-16ca-4803-8af5-74d5c12de47f",
   "metadata": {},
   "source": [
    "- внутри надо указать куда сохранять данные, переменная $rootFolder\n",
    "  \n",
    "- в $symbols прописать нужные активы\n",
    "- запустить вот так: powershell -ExecutionPolicy Bypass -NoProfile -File .\\downloader.ps1"
   ]
  },
  {
   "cell_type": "markdown",
   "id": "fc528dc8-a29d-42a4-a93e-e7dd0684f5d2",
   "metadata": {},
   "source": [
    "### 2. Дополнение"
   ]
  },
  {
   "cell_type": "markdown",
   "id": "75d82f8a-d24a-465a-a801-89eaf23594a1",
   "metadata": {},
   "source": [
    "* Текущая версия проверяет какие данные по активу хранятся на сервере байбита, сравнивает с тем, что уже загруженно и загружает того, что не хватает.\n",
    "\n",
    "* Для ускорения процесса, после первичной загрузки данных, можно прописать переменную с датой, например: $DefaultStartDate = Get-Date \"2025-05-01\"\n",
    "\n",
    "* Вместо: $DefaultStartDate = $null\n",
    "\n",
    "#### Тогда сверка данных будет производиться начиная с указанной даты"
   ]
  },
  {
   "cell_type": "markdown",
   "id": "0b54d22f-e712-4718-848b-daf367e2d7c5",
   "metadata": {},
   "source": [
    "### 3. ЕСТЬ ОДИН НЮАНС!\n",
    "\n",
    "Если произошел разрыв соединения и файл не загрузился полностью, он все равно создается. И программа воспринимает его как уже загруженный.\n",
    "В этом случае файл на котором произошла такая ситуация надо удалить и перезапустить скрипт. Он скачает полную версию этого файла."
   ]
  }
 ],
 "metadata": {
  "kernelspec": {
   "display_name": "Python [conda env:base] *",
   "language": "python",
   "name": "conda-base-py"
  },
  "language_info": {
   "codemirror_mode": {
    "name": "ipython",
    "version": 3
   },
   "file_extension": ".py",
   "mimetype": "text/x-python",
   "name": "python",
   "nbconvert_exporter": "python",
   "pygments_lexer": "ipython3",
   "version": "3.12.3"
  }
 },
 "nbformat": 4,
 "nbformat_minor": 5
}
